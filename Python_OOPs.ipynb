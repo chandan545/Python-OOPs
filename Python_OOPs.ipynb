{
  "nbformat": 4,
  "nbformat_minor": 0,
  "metadata": {
    "colab": {
      "provenance": []
    },
    "kernelspec": {
      "name": "python3",
      "display_name": "Python 3"
    },
    "language_info": {
      "name": "python"
    }
  },
  "cells": [
    {
      "cell_type": "markdown",
      "source": [
        "Python OOPs Questions"
      ],
      "metadata": {
        "id": "kRsUL-b9lGYR"
      }
    },
    {
      "cell_type": "markdown",
      "source": [
        "1. What is Object-Oriented Programming (OOP)?\n",
        "   - Object-Oriented Programming (OOP) is a programming style that uses objects to organize and structure code. Objects are created from classes, which are templates defining data (attributes) and actions (methods) that the objects can perform.\n",
        "\n",
        "   - Some key concepts of OOP:\n",
        "\n",
        "     - Class: A blueprint for creating objects.\n",
        "     - Object: An instance of a class.\n",
        "     - Encapsulation: Bundling data and methods together, hiding details.\n",
        "     - Inheritance: Creating new classes based on existing ones.\n",
        "     - Polymorphism: The ability to use the same method in different ways.\n",
        "     - Abstraction: Hiding complex details, showing only the essentials.\n",
        "\n",
        "2. What is a class in OOP?\n",
        "   - In Object-Oriented Programming (OOP), a class is like a blueprint or template for creating objects. It defines the attributes (data) and methods (functions) that the objects created from the class will have.\n",
        "    - Class: A template for creating objects.\n",
        "    - Object: An instance of a class, which has its own specific data.\n",
        "    - Attributes: Data or properties of an object (e.g., color, size).\n",
        "    - Methods: Functions that define actions or behavior of an object (e.g., move, speak).\n",
        "    \n",
        "    Example:\n",
        "           \n",
        "         class Car:\n",
        "            def __init__(self, make, model):\n",
        "                self.make = make   #Attribute\n",
        "                self.model = model #Attribute\n",
        "\n",
        "            def drive(self):       #Method\n",
        "                return f\"The {self.make} {self.model} is driving.\"\n",
        "\n",
        "         #Creating an object (instance) of the Car class\n",
        "         my_car = Car(\"Jeep\", \"Wranglar\")\n",
        "\n",
        "         #using the object's method\n",
        "         print(my_car.drive())\n",
        "\n",
        "\n",
        "3. What is an object in OOP?\n",
        "   - In Object-Oriented Programming (OOP), an object is an instance of a class. It is a real-world entity that has attributes (data) and methods (actions). Objects are created based on the blueprint provided by a class.\n",
        "     - Object: A specific instance created from a class.\n",
        "     - Attributes: Data that describes the object (e.g., color, size).\n",
        "     - Methods: Actions the object can perform (e.g., move, speak).\n",
        "\n",
        "4. What is the difference between abstraction and encapsulation?\n",
        "   - Abstraction:\n",
        "     - Abstraction solves the problem in the design level.\n",
        "     - Abstraction is used for hiding the unwanted data and giving relevant data.\n",
        "     - Abstraction lets you focus on what the object does instead of how it does it.\n",
        "     - Abstraction - Outer layout, used in terms of design.\n",
        "\n",
        "       Example:-\n",
        "       - Outer look of a mobile phone, like it has a display screen and keypad buttons to dial a number.\n",
        "\n",
        "  - Encapsulation:\n",
        "    - Encapsulation solves the problem in the implementation level.\n",
        "    - Encapsulation means hiding the code and data into a single unit to protect the data from outside world.\n",
        "    - Encapsulation means hiding the internal details or mechanics of how an object does something.\n",
        "    - Encapsulation - Inner layout, used in terms of implementation\n",
        "    \n",
        "      Example:-\n",
        "      - Inner implementation detail of a mobile phone, how keypad button and display screen are connected with each other using circuits\n",
        "\n",
        "5. What are dunder methods in Python?\n",
        "   - Dunder methods in Python are special methods that have two underscores before and after their name, like __init__ or __str__. These methods allow you to customize how your objects behave with Python's built-in operations, like addition, printing, or comparison.\n",
        "     - Common Dunder Methods:\n",
        "       - __init__(self): Constructor\n",
        "       - __str__(self): String representation for print()\n",
        "       - __repr__(self): Official string representation for debugging\n",
        "       - __add__(self, other): Add two objects with \"+\"\n",
        "       - __len__(self): Returns the length for len()\n",
        "       - __eq__(self, other): Equality comparison with ==\n",
        "\n",
        "6. Explain the concept of inheritance in OOP.\n",
        "   - Inheritance in Object-Oriented Programming (OOP) is a concept where a new class (called a child class or subclass) can inherit attributes and methods from an existing class (called a parent class or superclass). This allows the child class to reuse code from the parent class and extend or modify it as needed.\n",
        "    - The child class gets all the properties (attributes) and behaviors (methods) of the parent class.\n",
        "    - The child class can add its own attributes and methods.\n",
        "    - The child class can also override methods of the parent class if needed.\n",
        "\n",
        "    Example:\n",
        "         \n",
        "           #Parent class\n",
        "           class Animal:\n",
        "              def speak(self):\n",
        "                  return \"Animal sound\"\n",
        "\n",
        "           #child class inheriting from Animal\n",
        "           class Dog(Animal):\n",
        "               def speak(self):\n",
        "                   return \"Bark!\"\n",
        "\n",
        "           #create objects\n",
        "           animal = Animal()\n",
        "           dog = Dog()\n",
        "\n",
        "           print(animal.speak()) #output: Animal sound\n",
        "           print(dog.speak())    #output: Bark!\n",
        "\n",
        "7. What is polymorphism in OOP?\n",
        "   - Polymorphism in Object-Oriented Programming (OOP) means \"many shapes\". It allows objects of different classes to be treated as objects of a common superclass, but each class can have its own implementation of a method. In simple terms, it lets the same method do different things depending on the object that is calling it.\n",
        "\n",
        "   - Types of Polymorphism:\n",
        "      \n",
        "      a. Method Overriding (runtime polymorphism): A child class provides its own version of a method that is already defined in the parent class.\n",
        "\n",
        "      b. Method Overloading (not supported in Python, but in some languages like Java): Same method name with different arguments.\n",
        "       \n",
        "       Example(Method Overriding):\n",
        "             \n",
        "              #Parent class\n",
        "              class Animal:\n",
        "                  def speak(self):\n",
        "                      return \"Animal sound\"\n",
        "\n",
        "              #Child class\n",
        "              class Dog(Animal):\n",
        "                  def speak(self):\n",
        "                      return \"Bark!\"\n",
        "\n",
        "              #Child class\n",
        "              class Cat(Animal):\n",
        "                  def speak(self):\n",
        "                      return \"Meow!\"\n",
        "\n",
        "              #Creating objects\n",
        "              animals = [Dog(), Cat()]\n",
        "\n",
        "              for animal in animals:\n",
        "                  print(animal.speak())\n",
        "\n",
        "8. How is encapsulation achieved in Python?\n",
        "   - Encapsulation in Python is achieved by bundling an object's attributes (data) and methods (functions) together within a class, and restricting access to some of the object's components to protect its internal state. This is done using private and public attributes and methods.\n",
        "    - Public attributes/methods: These can be accessed directly from outside the class.\n",
        "    - Private attributes/methods: These are hidden and can only be accessed from within the class. In Python, this is typically done by adding two underscores (__) before an attribute or method name.\n",
        "\n",
        "    Example:\n",
        "\n",
        "          class Car:\n",
        "              def __init__(self, model, year):\n",
        "                  self.model = model\n",
        "                  self.__year = year\n",
        "\n",
        "              def get_year(self):\n",
        "                  return self.__year\n",
        "\n",
        "          car = car(\"Maruti\", 2020)\n",
        "          print(car.model)       #output: Maruti\n",
        "          print(car.get_year())  #output: 2020\n",
        "\n",
        "9. What is a constructor in Python?\n",
        "   - A constructor in Python is a special method called __init__() that is automatically called when a new object (instance) of a class is created. It is used to initialize the object's attributes and set up any necessary conditions for the object.\n",
        "     - The constructor method always has the name __init__.\n",
        "     - It is called when a new object is created from a class.\n",
        "     - It is used to initialize the attributes of the object.\n",
        "\n",
        "     Syntax:\n",
        "            \n",
        "            class ClassName:\n",
        "                def __init__(self, parameters):\n",
        "                    # Initialize object attributes\n",
        "\n",
        "10. What are class and static methods in Python?\n",
        "    - Class Method:\n",
        "      - A class method is a method that is bound to the class rather than an instance of the class. It takes the class as its first argument, usually named cls.\n",
        "      - Class methods are used when you need to operate on the class itself (not on an instance) or create alternative constructors.\n",
        "\n",
        "      Syntax:\n",
        "         \n",
        "             class MyClass:\n",
        "                 @classmethod\n",
        "                 def method(cls, arguments):\n",
        "                     # Do something with the class\n",
        "\n",
        "    - Static Method:\n",
        "      - A static method does not take the instance (self) or the class (cls) as its first argument. It behaves like a regular function but belongs to the class.\n",
        "      - Static methods are used when you want to perform an operation that is related to the class, but doesn't need access to any instance or class attributes.\n",
        "\n",
        "      Syntax:\n",
        "\n",
        "            class MyClass:\n",
        "                @staticmethod\n",
        "                def method(arguments):\n",
        "                    # Do something unrelated to the class or instance\n",
        "\n",
        "11. What is method overloading in Python?\n",
        "    - Method Overloading in Python refers to defining multiple methods with the same name but with different arguments (number or type of arguments). However, Python does not support true method overloading like some other programming languages (e.g., Java or C++). In Python, only the last defined method with a given name will be used, even if you define multiple methods with the same name.\n",
        "    - Since Python doesn't support method overloading directly, you can achieve similar functionality by using default arguments or variable-length arguments (*args or **kwargs).\n",
        "\n",
        "    Example using Default Arguments:\n",
        "\n",
        "            class Calculator:\n",
        "                def add(self, a, b=0):\n",
        "                    return a + b\n",
        "\n",
        "            #create object\n",
        "            calc = Calculator()\n",
        "\n",
        "            print(calc.add(3, 4))    #output: 7\n",
        "            print(calc.add(5))       #output: 5\n",
        "\n",
        "    Example using variable-length Arguments:\n",
        "\n",
        "           class Calculator:\n",
        "               def add(self, *args):\n",
        "                   return sum(args)\n",
        "\n",
        "           #create object\n",
        "           calc = Calculator()\n",
        "\n",
        "           print(calc.add(1, 2))        #output: 3\n",
        "           print(calc.add(1, 2, 3, 4))  #output: 10\n",
        "\n",
        "12. What is method overriding in OOP?\n",
        "    - Method Overriding allows a child class to change or customize the behavior of a method that it inherits from a parent class.\n",
        "\n",
        "    Example:\n",
        "      \n",
        "           class Vehicle:\n",
        "               def start(self):\n",
        "                   return \"Vehicle is starting\"\n",
        "\n",
        "           class Car(Vehicle):\n",
        "               def start(self):\n",
        "                   return \"Car is starting\"\n",
        "\n",
        "           #Create objects\n",
        "           vehicle = Vehicle()\n",
        "           car = Car()\n",
        "\n",
        "           print(vehicle.start())  #output: Vehicle is starting\n",
        "           print(car.start())      #output: Car is starting\n",
        "\n",
        "13. What is a property decorator in Python?\n",
        "    - The property decorator in Python is used to define a method that can be accessed like an attribute. It allows you to control how an attribute is accessed or modified without directly using getter and setter methods.\n",
        "\n",
        "    Syntax:\n",
        "          \n",
        "          class MyClass:\n",
        "              @property\n",
        "              def attribute(self):\n",
        "                  #Logic to get the value\n",
        "                  return self._value\n",
        "\n",
        "14. Why is polymorphism important in OOP?\n",
        "    - Polymorphism is important in Object-Oriented Programming (OOP) for the following simple reasons:\n",
        "\n",
        "     a. Code Reusability: It allows you to write methods that can work with objects of different classes, making your code more flexible and reusable.\n",
        "\n",
        "     b. Simplifies Code: It allows you to use the same method name across different classes, reducing the need for complex code with many method names.\n",
        "\n",
        "     c. Improves Maintainability: It makes the code easier to maintain by using common interfaces, even if the underlying implementation changes.\n",
        "     \n",
        "     d. Encourages Extensibility: You can easily add new classes without changing the existing code, as the new classes can fit into the same structure.\n",
        "\n",
        "     e. Dynamic Behavior: Polymorphism allows different objects to be treated as instances of the same class, while still invoking their own specific behaviors (methods).\n",
        "\n",
        "15. What is an abstract class in Python?\n",
        "    - An abstract class in Python is a class that cannot be used to create objects directly. It provides a base for other classes to inherit from and requires them to implement certain methods.\n",
        "    - It has abstract methods that must be implemented by subclasses.\n",
        "\n",
        "    Example:\n",
        "\n",
        "           from abc import ABC, abstractmethod\n",
        "\n",
        "           class Animal(ABC):\n",
        "               @abstractmethod\n",
        "               def sound(self):\n",
        "                   pass\n",
        "\n",
        "           class Dog(Animal):\n",
        "               def sound(self):\n",
        "                   return \"Bark!\"\n",
        "\n",
        "           dog = Dog()\n",
        "           print(dog.sound())  #output: Bark\n",
        "\n",
        "16. What are the advantages of OOP?\n",
        "    - The advantages of Object-Oriented Programming (OOP) are:\n",
        "      - Easier to manage: Code is organized into small, manageable parts (objects and classes).\n",
        "      - Reuse code: You can use the same code in different parts of the program or in different projects.\n",
        "      - Hides complexity: OOP helps you focus on what an object does, not how it works inside.\n",
        "      - Protects data: It keeps data safe by restricting access to it, so it's harder to accidentally change things.\n",
        "      - Easy to add features: You can easily add new features or update old ones by changing or adding new classes.\n",
        "      - Easy to fix issues: Since the code is in small parts, it’s easier to find and fix problems.\n",
        "      - Better security: You can control who can access or modify data, making your program more secure.\n",
        "      - OOP makes coding easier to understand, maintain, and update.\n",
        "\n",
        "17. What is the difference between a class variable and an instance variable?\n",
        "    - Class variable:\n",
        "      - Defined inside the class, outside any methods.\n",
        "      - Shared by all instances (objects) of the class.\n",
        "      - If the value is changed in one object, it changes for all objects of that class.\n",
        "\n",
        "      Example:\n",
        "              \n",
        "            class Car:\n",
        "                wheels = 4 #class variable\n",
        "\n",
        "            car1 = Car()\n",
        "            car2 = Car()\n",
        "\n",
        "            print(car1.wheels)  #output: 4\n",
        "            print(car2.wheels)  #output: 4\n",
        "\n",
        "    - Instance Variable:\n",
        "      - Defined inside methods (typically in __init__).\n",
        "      - Unique to each instance of the class.\n",
        "      - Each object can have its own value for the instance variable.\n",
        "\n",
        "      Example:\n",
        "         \n",
        "            class Car:\n",
        "                def __init__(self, color):\n",
        "                    self.color = color  #Instance variable\n",
        "\n",
        "            car1 = Car(\"red\")\n",
        "            car2 = Car(\"blue\")\n",
        "\n",
        "            print(car1.color)  #output: red\n",
        "            print(car2.color)  #output: blue\n",
        "\n",
        "18. What is multiple inheritance in Python?\n",
        "    - Multiple inheritance in Python is when a class can inherit from more than one parent class. This allows a class to combine the features and behaviors of multiple classes.\n",
        "\n",
        "    Example:\n",
        "          \n",
        "          class Animal:\n",
        "              def speak(self):\n",
        "                  return \"Animal sound\"\n",
        "\n",
        "          class Mammal:\n",
        "              def walk(self):\n",
        "                  return \"Walking on land\"\n",
        "\n",
        "          class Dog(Animal, Mammal):\n",
        "              def bark(self):\n",
        "                  return \"Bark!\"\n",
        "\n",
        "          #create object\n",
        "          dog = Dog()\n",
        "\n",
        "          print(dog.speak())  #From Animal class\n",
        "          print(dog.walk())   #From Mammal class\n",
        "          print(dog.bark())   #From Dog class\n",
        "\n",
        "19. Explain the purpose of ‘__str__’ and ‘__repr__’  methods in Python.\n",
        "    - __str__:\n",
        "     - Used to create a user-friendly string representation of an object.\n",
        "     - Called when you use print() or str() on the object.\n",
        "\n",
        "     Example:\n",
        "           class Person:\n",
        "              def __str__(self):\n",
        "                  return \"This is a person.\"\n",
        "\n",
        "           p = Person()\n",
        "           print(p)     #output: This is a person\n",
        "\n",
        "    - __repr__:\n",
        "     - Used to create a developer-friendly string representation of an object.\n",
        "     - Called when you use repr() or when you inspect the object in an interactive session.\n",
        "\n",
        "     Example:\n",
        "           class Person:\n",
        "              def __repr__(self):\n",
        "                  return \"Person()\"\n",
        "\n",
        "           p = Person()\n",
        "           print(repr(p)) #output: Person()\n",
        "\n",
        "20. What is the significance of the ‘super()’ function in Python?\n",
        "    - The super() function in Python is used to call a method from the parent class in a child class. It is commonly used in inheritance to reuse the functionality of the parent class.\n",
        "      - Access parent methods: super() lets you call methods from the parent class without directly naming the parent class.\n",
        "      - Avoid repetition: It helps avoid repeating code that is already implemented in the parent class.\n",
        "      - Maintains flexibility: If the parent class name changes, you don’t need to update the code because super() dynamically refers to the parent class.\n",
        "\n",
        "      Example:\n",
        "\n",
        "            class Animal:\n",
        "                def __init__(self, name):\n",
        "                    self.name = name\n",
        "\n",
        "            class Dog(Animal):\n",
        "                def __init__(self, name, breed):\n",
        "                    super().__init__(name)      #call parent class's __init__\n",
        "                    self.breed = breed\n",
        "\n",
        "            # Create an object\n",
        "            dog = Dog(\"Joe\", \"Labrador\")\n",
        "            print(dog.name)                     #output: Joe\n",
        "            print(dog.breed)                    #output: Labrador\n",
        "\n",
        "21. What is the significance of the __del__ method in Python?\n",
        "    - The __del__ method in Python is called when an object is about to be destroyed. It is also known as the destructor method. You can use it to clean up resources like closing files or network connections when an object is no longer needed.\n",
        "\n",
        "    - Automatically called: Python calls __del__ when the object is deleted or goes out of scope.\n",
        "    - Resource cleanup: It is often used to release resources like files, databases, or connections.\n",
        "\n",
        "    Example:\n",
        "\n",
        "          class MyClass:\n",
        "              def __del__(self):\n",
        "                  print(\"Object is being deleted\")\n",
        "\n",
        "          #create an object\n",
        "          obj = MyClass()\n",
        "\n",
        "          #delete the object\n",
        "          del obj\n",
        "\n",
        "22. What is the difference between @staticmethod and @classmethod in Python?\n",
        "    - @staticmethod:\n",
        "      - Does not depend on the class or instance.\n",
        "      - Acts like a regular function inside the class, but it’s part of the class namespace.\n",
        "      - Does not take self or cls as a parameter.\n",
        "\n",
        "      Example:\n",
        "            \n",
        "            class MyClass:\n",
        "                @staticmethod\n",
        "                def greet():\n",
        "                    print(\"Hello! This is a static method.\")\n",
        "\n",
        "                MyClass.greet()  #Output: Hello! This is a static method.\n",
        "\n",
        "    - @classmethod:\n",
        "      - Works with the class itself (not an instance).\n",
        "      - Takes cls (the class itself) as the first parameter.\n",
        "      - Can be used to modify or interact with class-level variables.\n",
        "\n",
        "      Example:\n",
        "\n",
        "            class MyClass:\n",
        "                count = 0\n",
        "\n",
        "                @classmethod\n",
        "                def increment_count(cls):\n",
        "                    cls.count += 1\n",
        "                    print(f\"Class count is now {cls.count}\")\n",
        "\n",
        "            MyClass.increment_count() #Output: Class count is now 1\n",
        "\n",
        "23. How does polymorphism work in Python with inheritance?\n",
        "    - In Python, polymorphism with inheritance means that a child class can override methods from a parent class, and the same method name can behave differently depending on the object calling it.\n",
        "    - Parent class provides a method.\n",
        "    - Child class overrides the method to provide its own specific behavior.\n",
        "    - When you call the method, Python determines which version to use based on the object type.\n",
        "\n",
        "    Example of polymorphism with inheritance without using a loop:\n",
        "          \n",
        "          class Vehicle:\n",
        "              def move(self):\n",
        "                  return \"Vehicles move in different ways\"\n",
        "\n",
        "          class Car(Vehicle):\n",
        "              def move(self):\n",
        "                  return \"Car drives on roads\"\n",
        "\n",
        "          class Boat(Vehicle):\n",
        "              def move(self):\n",
        "                  return \"Boat sails on water\"\n",
        "\n",
        "          #Polymorphism in action\n",
        "          car = Car()\n",
        "          boat = Boat()\n",
        "\n",
        "          print(car.move())   #Output: Car drives on roads\n",
        "          print(boat.move())  #Output: Boat sails on water\n",
        "\n",
        "24. What is method chaining in Python OOP?\n",
        "    - Method chaining in Python is a technique where you call multiple methods on the same object in a single line, one after another. Each method call returns the object itself (or another object), allowing you to \"chain\" the calls together.\n",
        "    - Each method in the chain must return the object (or another object) to allow the next method to be called on it.\n",
        "    - It makes code more compact and readable.\n",
        "\n",
        "      Example:\n",
        "          \n",
        "            class Calculator:\n",
        "                def __init__(self, value=0):\n",
        "                    self.value = value\n",
        "\n",
        "                def add(self, num):\n",
        "                    self.value += num\n",
        "                    return self\n",
        "\n",
        "                def subtract(self, num):\n",
        "                    self.value -= num\n",
        "                    return self\n",
        "\n",
        "                def multiply(self, num):\n",
        "                    self.value *= num\n",
        "                    return self\n",
        "\n",
        "                def get_value(self):\n",
        "                    return self.value\n",
        "\n",
        "            #Method chaining example\n",
        "            result = Calculator().add(10).subtract(5).multiply(2).get_value()\n",
        "            print(result) #output: 10\n",
        "\n",
        "25. What is the purpose of the __call__ method in Python?\n",
        "    - The __call__ method in Python allows an object to be called like a function. When you define __call__ in a class, you can use instances of that class as if they were functions, and you can pass arguments to them.\n",
        "    - Makes an object callable like a function.\n",
        "    - You can define custom behavior for the call operation.\n",
        "    - In simple, the __call__ method allows you to make an object behave like a function.\n",
        "\n",
        "      Example:\n",
        "         \n",
        "            class Counter:\n",
        "                def __init__(self):\n",
        "                    self.count = 0\n",
        "\n",
        "                def __call__(self):\n",
        "                    self.count += 1\n",
        "                    return self.count\n",
        "\n",
        "            # Create an object\n",
        "            counter = Counter()\n",
        "\n",
        "            #Call the object like a function\n",
        "            print(counter())  #Output: 1\n",
        "            print(counter())  #Output: 2\n",
        "            print(counter())  #Output: 3\n",
        "\n",
        "\n",
        "\n",
        "\n",
        "\n",
        "\n",
        "\n",
        "\n",
        "\n",
        "\n",
        "\n",
        "\n"
      ],
      "metadata": {
        "id": "41o-RhdOlcnY"
      }
    },
    {
      "cell_type": "markdown",
      "source": [
        "Practical Questions"
      ],
      "metadata": {
        "id": "wqPknRrRlU3l"
      }
    },
    {
      "cell_type": "code",
      "source": [
        "#1. Create a parent class Animal with a method speak() that prints a generic message. Create a child class Dog that overrides the speak() method to print \"Bark!\".\n",
        "#ans.\n",
        "class Animal:\n",
        "  def speak(self):\n",
        "    print(\"Animal Sound\")\n",
        "\n",
        "class Dog(Animal):\n",
        "  def speak(self):\n",
        "    print(\"Bark!\")"
      ],
      "metadata": {
        "id": "KjFmR3QElauy"
      },
      "execution_count": null,
      "outputs": []
    },
    {
      "cell_type": "code",
      "source": [
        "Dog().speak()"
      ],
      "metadata": {
        "colab": {
          "base_uri": "https://localhost:8080/"
        },
        "id": "PEXTsMTmnwUz",
        "outputId": "0e7e8fdf-4eec-4aec-98b7-3c18c1b37f28"
      },
      "execution_count": null,
      "outputs": [
        {
          "output_type": "stream",
          "name": "stdout",
          "text": [
            "Bark!\n"
          ]
        }
      ]
    },
    {
      "cell_type": "code",
      "source": [
        "#2.  Write a program to create an abstract class Shape with a method area(). Derive classes Circle and Rectangle from it and implement the area() method in both.\n",
        "#ans.\n",
        "from abc import ABC, abstractmethod\n",
        "\n",
        "class Shape(ABC):\n",
        "  @abstractmethod\n",
        "  def area(self):\n",
        "    pass\n",
        "\n",
        "class Circle(Shape):\n",
        "  def __init__(self, radius):\n",
        "    self.radius = radius\n",
        "\n",
        "  def area(self):\n",
        "    return 3.14 * self.radius ** 2\n",
        "\n",
        "class Rectangle(Shape):\n",
        "  def __init__(self, width, height):\n",
        "    self.width = width\n",
        "    self.height = height\n",
        "\n",
        "  def area(self):\n",
        "    return self.width * self.height"
      ],
      "metadata": {
        "id": "YzU2_T4un36m"
      },
      "execution_count": null,
      "outputs": []
    },
    {
      "cell_type": "code",
      "source": [
        "circle = Circle(4)\n",
        "print(\"Circle area:\", circle.area())"
      ],
      "metadata": {
        "colab": {
          "base_uri": "https://localhost:8080/"
        },
        "id": "M0iKrGospDkD",
        "outputId": "99f64b67-7ae1-4305-f98b-229f8bd9c1be"
      },
      "execution_count": null,
      "outputs": [
        {
          "output_type": "stream",
          "name": "stdout",
          "text": [
            "Circle area: 50.24\n"
          ]
        }
      ]
    },
    {
      "cell_type": "code",
      "source": [
        "rectangle = Rectangle(4, 5)\n",
        "print(\"Rectangle area:\", rectangle.area())"
      ],
      "metadata": {
        "colab": {
          "base_uri": "https://localhost:8080/"
        },
        "id": "G7ZSy8QYqWSm",
        "outputId": "1765d11b-193d-4781-8606-3afeb1d1bb83"
      },
      "execution_count": null,
      "outputs": [
        {
          "output_type": "stream",
          "name": "stdout",
          "text": [
            "Rectangle area: 20\n"
          ]
        }
      ]
    },
    {
      "cell_type": "code",
      "source": [
        "#3. Implement a multi-level inheritance scenario where a class Vehicle has an attribute type. Derive a class Car and further derive a class ElectricCar that adds a battery attribute.\n",
        "#ans.\n",
        "class Vehicle:\n",
        "  def __init__(self, vehicle_type):\n",
        "    self.vehicle_type = vehicle_type\n",
        "\n",
        "class Car(Vehicle):\n",
        "  def __init__(self, vehicle_type, brand):\n",
        "    super().__init__(vehicle_type)\n",
        "    self.brand = brand\n",
        "\n",
        "class ElectricCar(Car):\n",
        "  def __init__(self, vehicle_type, brand, battery):\n",
        "    super().__init__(vehicle_type, brand)\n",
        "    self.battery = battery"
      ],
      "metadata": {
        "id": "7Iy_NXoyrOQ8"
      },
      "execution_count": null,
      "outputs": []
    },
    {
      "cell_type": "code",
      "source": [
        "ecar = ElectricCar(\"Car\", \"Tesla\", \"75 kwh\")"
      ],
      "metadata": {
        "id": "LgLt9325uUjk"
      },
      "execution_count": null,
      "outputs": []
    },
    {
      "cell_type": "code",
      "source": [
        "print(ecar.vehicle_type)\n",
        "print(ecar.brand)\n",
        "print(ecar.battery)"
      ],
      "metadata": {
        "colab": {
          "base_uri": "https://localhost:8080/"
        },
        "id": "LfBWyQY0unb6",
        "outputId": "443b74d2-376e-452a-c34b-6a5903003612"
      },
      "execution_count": null,
      "outputs": [
        {
          "output_type": "stream",
          "name": "stdout",
          "text": [
            "Car\n",
            "Tesla\n",
            "75 kwh\n"
          ]
        }
      ]
    },
    {
      "cell_type": "code",
      "source": [
        "#4. Implement a multi-level inheritance scenario where a class Vehicle has an attribute type. Derive a class Car and further derive a class ElectricCar that adds a battery attribute.\n",
        "#ans.\n",
        "class Vehicle:\n",
        "  def __init__(self, vehicle_type):\n",
        "    self.vehicle_type = vehicle_type\n",
        "\n",
        "class Car(Vehicle):\n",
        "  def __init__(self, vehicle_type, brand):\n",
        "    super().__init__(vehicle_type)\n",
        "    self.brand = brand\n",
        "\n",
        "class ElectricCar(Car):\n",
        "  def __init__(self, vehicle_type, brand, battery):\n",
        "    super().__init__(vehicle_type, brand)\n",
        "    self.battery = battery"
      ],
      "metadata": {
        "id": "thNSdCiIuyqr"
      },
      "execution_count": null,
      "outputs": []
    },
    {
      "cell_type": "code",
      "source": [
        "ecar = ElectricCar(\"Car\", \"Tesla\", \"75 kwh\")"
      ],
      "metadata": {
        "id": "cTMHX920wXbj"
      },
      "execution_count": null,
      "outputs": []
    },
    {
      "cell_type": "code",
      "source": [
        "print(ecar.vehicle_type)\n",
        "print(ecar.brand)\n",
        "print(ecar.battery)"
      ],
      "metadata": {
        "colab": {
          "base_uri": "https://localhost:8080/"
        },
        "id": "0TPKJ8xywlv3",
        "outputId": "94e33a1d-1e73-45ca-8d7c-a4d125e8e38e"
      },
      "execution_count": null,
      "outputs": [
        {
          "output_type": "stream",
          "name": "stdout",
          "text": [
            "Car\n",
            "Tesla\n",
            "75 kwh\n"
          ]
        }
      ]
    },
    {
      "cell_type": "code",
      "source": [
        "#5. Write a program to demonstrate encapsulation by creating a class BankAccount with private attributes balance and methods to deposit, withdraw, and check balance.\n",
        "#ans.\n",
        "class Bank:\n",
        "\n",
        "  def __init__(self, balance):\n",
        "    self.__balance = balance\n",
        "\n",
        "  def deposit(self, amount):\n",
        "    self.__balance = self.__balance + amount\n",
        "\n",
        "  def withdraw(self, amount):\n",
        "    if self.__balance >= amount:\n",
        "      self.__balance = self.__balance - amount\n",
        "      return True\n",
        "    else:\n",
        "      return False\n",
        "\n",
        "  def get_balance(self):\n",
        "      return self.__balance"
      ],
      "metadata": {
        "id": "IjKymQV6wudm"
      },
      "execution_count": null,
      "outputs": []
    },
    {
      "cell_type": "code",
      "source": [
        "acc1 = Bank(1000)"
      ],
      "metadata": {
        "id": "YsCizDuhykIW"
      },
      "execution_count": null,
      "outputs": []
    },
    {
      "cell_type": "code",
      "source": [
        "acc1.get_balance()"
      ],
      "metadata": {
        "colab": {
          "base_uri": "https://localhost:8080/"
        },
        "id": "IMMNTBUgysAy",
        "outputId": "9bf26d5c-6185-4e11-ef79-316d1234f686"
      },
      "execution_count": null,
      "outputs": [
        {
          "output_type": "execute_result",
          "data": {
            "text/plain": [
              "1000"
            ]
          },
          "metadata": {},
          "execution_count": 31
        }
      ]
    },
    {
      "cell_type": "code",
      "source": [
        "acc1.deposit(500)"
      ],
      "metadata": {
        "id": "e7w8Tm_Gyvi6"
      },
      "execution_count": null,
      "outputs": []
    },
    {
      "cell_type": "code",
      "source": [
        "acc1.get_balance()"
      ],
      "metadata": {
        "colab": {
          "base_uri": "https://localhost:8080/"
        },
        "id": "TufJEb9DzKAn",
        "outputId": "aa75d6db-25b7-4b2f-e754-1343f06792fb"
      },
      "execution_count": null,
      "outputs": [
        {
          "output_type": "execute_result",
          "data": {
            "text/plain": [
              "1500"
            ]
          },
          "metadata": {},
          "execution_count": 33
        }
      ]
    },
    {
      "cell_type": "code",
      "source": [
        "acc1.withdraw(100)"
      ],
      "metadata": {
        "colab": {
          "base_uri": "https://localhost:8080/"
        },
        "id": "K8VtKnqOzNj5",
        "outputId": "c7440d28-e97d-4117-a721-17a98b7727a9"
      },
      "execution_count": null,
      "outputs": [
        {
          "output_type": "execute_result",
          "data": {
            "text/plain": [
              "True"
            ]
          },
          "metadata": {},
          "execution_count": 34
        }
      ]
    },
    {
      "cell_type": "code",
      "source": [
        "acc1.get_balance()"
      ],
      "metadata": {
        "colab": {
          "base_uri": "https://localhost:8080/"
        },
        "id": "yaG4If_JzVTz",
        "outputId": "7860061a-86fc-4ffe-b944-20d214f61d9d"
      },
      "execution_count": null,
      "outputs": [
        {
          "output_type": "execute_result",
          "data": {
            "text/plain": [
              "1400"
            ]
          },
          "metadata": {},
          "execution_count": 35
        }
      ]
    },
    {
      "cell_type": "code",
      "source": [
        "#6. Demonstrate runtime polymorphism using a method play() in a base class Instrument. Derive classes Guitar and Piano that implement their own version of play().\n",
        "#ans.\n",
        "class Instrument:\n",
        "  def play(self):\n",
        "    print(\"Playing the instrument.\")\n",
        "\n",
        "class Guitar(Instrument):\n",
        "  def play(self):\n",
        "    print(\"Playing the guitar.\")\n",
        "\n",
        "class Piano(Instrument):\n",
        "  def play(self):\n",
        "    print(\"Playing the piano.\")"
      ],
      "metadata": {
        "id": "dsvOjCGpzX5E"
      },
      "execution_count": null,
      "outputs": []
    },
    {
      "cell_type": "code",
      "source": [
        "def perform_play(instrument):\n",
        "  instrument.play()"
      ],
      "metadata": {
        "id": "JUu1yWdQQXre"
      },
      "execution_count": null,
      "outputs": []
    },
    {
      "cell_type": "code",
      "source": [
        "guitar = Guitar()\n",
        "piano = Piano()"
      ],
      "metadata": {
        "id": "LpJrTT1PQfTc"
      },
      "execution_count": null,
      "outputs": []
    },
    {
      "cell_type": "code",
      "source": [
        "perform_play(guitar)\n",
        "perform_play(piano)"
      ],
      "metadata": {
        "colab": {
          "base_uri": "https://localhost:8080/"
        },
        "id": "hd5IEamcQjye",
        "outputId": "affeabc7-f209-4ed7-df82-62a478ce9cae"
      },
      "execution_count": null,
      "outputs": [
        {
          "output_type": "stream",
          "name": "stdout",
          "text": [
            "Playing the guitar.\n",
            "Playing the piano.\n"
          ]
        }
      ]
    },
    {
      "cell_type": "code",
      "source": [
        "#7. Create a class MathOperations with a class method add_numbers() to add two numbers and a static method subtract_numbers() to subtract two numbers.\n",
        "#ans.\n",
        "class MathOperations:\n",
        "  @classmethod\n",
        "  def add_numbers(cls, a, b):\n",
        "    return a + b\n",
        "\n",
        "  @staticmethod\n",
        "  def subtract_numbers(a, b):\n",
        "    return a - b"
      ],
      "metadata": {
        "id": "o3Eclqq-Qr8z"
      },
      "execution_count": null,
      "outputs": []
    },
    {
      "cell_type": "code",
      "source": [
        "MathOperations.add_numbers(10, 5)"
      ],
      "metadata": {
        "colab": {
          "base_uri": "https://localhost:8080/"
        },
        "id": "oyxOgeu0R6gs",
        "outputId": "15c83d94-8c2c-40ef-931e-efd81a2a4759"
      },
      "execution_count": null,
      "outputs": [
        {
          "output_type": "execute_result",
          "data": {
            "text/plain": [
              "15"
            ]
          },
          "metadata": {},
          "execution_count": 7
        }
      ]
    },
    {
      "cell_type": "code",
      "source": [
        "MathOperations.subtract_numbers(10, 5)"
      ],
      "metadata": {
        "colab": {
          "base_uri": "https://localhost:8080/"
        },
        "id": "qQRmH1mrSCz1",
        "outputId": "d9a2ee8a-84c1-4839-c2b2-f4efb8733d78"
      },
      "execution_count": null,
      "outputs": [
        {
          "output_type": "execute_result",
          "data": {
            "text/plain": [
              "5"
            ]
          },
          "metadata": {},
          "execution_count": 9
        }
      ]
    },
    {
      "cell_type": "code",
      "source": [
        "#8. Implement a class Person with a class method to count the total number of persons created.\n",
        "#ans.\n",
        "class Person:\n",
        "  total_persons = 0 #class attribute to keep track of the count\n",
        "\n",
        "  def __init__(self, name):\n",
        "    self.name = name\n",
        "    Person.total_persons += 1 #Increment count when a new person is created\n",
        "\n",
        "  @classmethod\n",
        "  def get_total_persons(cls):\n",
        "    return cls.total_persons #Access the class attribute"
      ],
      "metadata": {
        "id": "fWQ1f3VUSL_H"
      },
      "execution_count": null,
      "outputs": []
    },
    {
      "cell_type": "code",
      "source": [
        "p1 = Person(\"Chandan\")\n",
        "p2 = Person(\"Abdul\")\n",
        "p3 = Person(\"Pankaj\")"
      ],
      "metadata": {
        "id": "zbgnMgxBTv5u"
      },
      "execution_count": null,
      "outputs": []
    },
    {
      "cell_type": "code",
      "source": [
        "print(\"Total persons created:\", Person.get_total_persons())"
      ],
      "metadata": {
        "colab": {
          "base_uri": "https://localhost:8080/"
        },
        "id": "jOeT7zXGUCHg",
        "outputId": "c90ea3fd-fa4b-4c38-a639-f1dc3db60b35"
      },
      "execution_count": null,
      "outputs": [
        {
          "output_type": "stream",
          "name": "stdout",
          "text": [
            "Total persons created: 3\n"
          ]
        }
      ]
    },
    {
      "cell_type": "code",
      "source": [
        "#9. Write a class Fraction with attributes numerator and denominator. Override the str method to display the fraction as \"numerator/denominator\".\n",
        "#ans.\n",
        "class Fraction:\n",
        "  def __init__(self, numerator, denominator):\n",
        "    self.numerator = numerator\n",
        "    self.denominator = denominator\n",
        "\n",
        "  def __str__(self):\n",
        "    return f\"{self.numerator}/{self.denominator}\""
      ],
      "metadata": {
        "id": "iCFf5kX6UTAy"
      },
      "execution_count": null,
      "outputs": []
    },
    {
      "cell_type": "code",
      "source": [
        "fraction = Fraction(3, 4)\n",
        "print(fraction)"
      ],
      "metadata": {
        "colab": {
          "base_uri": "https://localhost:8080/"
        },
        "id": "c40XgzoxWdRn",
        "outputId": "a40af64f-1f5a-46ca-bbf0-1e60729a7c72"
      },
      "execution_count": null,
      "outputs": [
        {
          "output_type": "stream",
          "name": "stdout",
          "text": [
            "3/4\n"
          ]
        }
      ]
    },
    {
      "cell_type": "code",
      "source": [
        "#10. Demonstrate operator overloading by creating a class Vector and overriding the add method to add two vectors.\n",
        "#ans.\n",
        "class Vector:\n",
        "  def __init__(self, x, y):\n",
        "    self.x = x\n",
        "    self.y = y\n",
        "\n",
        "  def __add__(self, other):\n",
        "    return Vector(self.x + other.x, self.y + other.y)\n",
        "\n",
        "  def __str__(self):\n",
        "    return f\"Vector({self.x}, {self.y})\""
      ],
      "metadata": {
        "id": "TqKsW8PDWmAF"
      },
      "execution_count": null,
      "outputs": []
    },
    {
      "cell_type": "code",
      "source": [
        "v1 = Vector(2, 3)\n",
        "v2 = Vector(4, 5)\n",
        "v3 = v1 + v2"
      ],
      "metadata": {
        "id": "SoQc3nilYGPd"
      },
      "execution_count": null,
      "outputs": []
    },
    {
      "cell_type": "code",
      "source": [
        "print(v1)\n",
        "print(v2)\n",
        "print(v3)"
      ],
      "metadata": {
        "colab": {
          "base_uri": "https://localhost:8080/"
        },
        "id": "Y1xLn24KYP4y",
        "outputId": "b22296d8-2ff4-4fe1-ed5c-3948affb585a"
      },
      "execution_count": null,
      "outputs": [
        {
          "output_type": "stream",
          "name": "stdout",
          "text": [
            "Vector(2, 3)\n",
            "Vector(4, 5)\n",
            "Vector(6, 8)\n"
          ]
        }
      ]
    },
    {
      "cell_type": "code",
      "source": [
        "#11. Create a class Person with attributes name and age. Add a method greet() that prints \"Hello, my name is {name} and I am {age} years old.\"\n",
        "#ans.\n",
        "class Person:\n",
        "  def __init__(self, name, age):\n",
        "    self.name = name\n",
        "    self.age = age\n",
        "\n",
        "  def greet(self):\n",
        "    print(f\"Hello, my name is {self.name} and I am {self.age} years old.\")"
      ],
      "metadata": {
        "id": "DaY6sv_tYVF5"
      },
      "execution_count": null,
      "outputs": []
    },
    {
      "cell_type": "code",
      "source": [
        "person = Person(\"Chandan Singh\", 25)"
      ],
      "metadata": {
        "id": "so6tsk60aCLB"
      },
      "execution_count": null,
      "outputs": []
    },
    {
      "cell_type": "code",
      "source": [
        "person.greet()"
      ],
      "metadata": {
        "colab": {
          "base_uri": "https://localhost:8080/"
        },
        "id": "9ITM43C_aL7X",
        "outputId": "0c618793-5541-496e-a2e7-84a4d2be1ebb"
      },
      "execution_count": null,
      "outputs": [
        {
          "output_type": "stream",
          "name": "stdout",
          "text": [
            "Hello, my name is Chandan Singh and I am 25 years old.\n"
          ]
        }
      ]
    },
    {
      "cell_type": "code",
      "source": [
        "#12. Implement a class Student with attributes name and grades. Create a method average_grade() to compute the average of the grades.\n",
        "#ans.\n",
        "class Student:\n",
        "  def __init__(self, name, grades):\n",
        "    self.name = name\n",
        "    self.grades = grades\n",
        "\n",
        "  def average_grade(self):\n",
        "    return sum(self.grades) / len(self.grades)"
      ],
      "metadata": {
        "id": "aq_BGFFEaQY6"
      },
      "execution_count": null,
      "outputs": []
    },
    {
      "cell_type": "code",
      "source": [
        "student = Student(\"Chandan\", [65, 80, 75, 94, 55])\n",
        "print(student.name, \"average grade:\", student.average_grade())"
      ],
      "metadata": {
        "colab": {
          "base_uri": "https://localhost:8080/"
        },
        "id": "siEyQK8JfJwQ",
        "outputId": "68590495-e99a-4016-cf88-11c4660be516"
      },
      "execution_count": null,
      "outputs": [
        {
          "output_type": "stream",
          "name": "stdout",
          "text": [
            "Chandan average grade: 73.8\n"
          ]
        }
      ]
    },
    {
      "cell_type": "code",
      "source": [
        "#13. Create a class Rectangle with methods set_dimensions() to set the dimensions and area() to calculate the area.\n",
        "#ans.\n",
        "class Rectangle:\n",
        "  def __init__(self):\n",
        "    self.length = 0\n",
        "    self.width = 0\n",
        "\n",
        "  def set_dimensions(self, length, width):\n",
        "    self.length = length\n",
        "    self.width = width\n",
        "\n",
        "  def area(self):\n",
        "    return self.length * self.width"
      ],
      "metadata": {
        "id": "cyImEm8_fmSZ"
      },
      "execution_count": null,
      "outputs": []
    },
    {
      "cell_type": "code",
      "source": [
        "rect = Rectangle()\n",
        "rect.set_dimensions(5, 4)\n",
        "print(\"Area of rectangle:\", rect.area())"
      ],
      "metadata": {
        "colab": {
          "base_uri": "https://localhost:8080/"
        },
        "id": "q0MQfcq4gm-O",
        "outputId": "c6560254-d5b2-4c91-da9c-c6f5e1ce6b71"
      },
      "execution_count": null,
      "outputs": [
        {
          "output_type": "stream",
          "name": "stdout",
          "text": [
            "Area of rectangle: 20\n"
          ]
        }
      ]
    },
    {
      "cell_type": "code",
      "source": [
        "#14. Create a class Employee with a method calculate_salary() that computes the salary based on hours worked and hourly rate. Create a derived class Manager that adds a bonus to the salary.\n",
        "#ans.\n",
        "class Employee:\n",
        "  def __init__(self, name, hourly_rate):\n",
        "    self.name = name\n",
        "    self.hourly_rate = hourly_rate\n",
        "\n",
        "  def calculate_salary(self, hours_worked):\n",
        "    return self.hourly_rate * hours_worked\n",
        "\n",
        "class Manager(Employee):\n",
        "  def __init__(self, name, hourly_rate, bonus):\n",
        "    super().__init__(name, hourly_rate)\n",
        "    self.bonus = bonus\n",
        "\n",
        "  def calculate_salary(self, hours_worked):\n",
        "    base_salary = super().calculate_salary(hours_worked)\n",
        "    return base_salary + self.bonus"
      ],
      "metadata": {
        "id": "_ZCxchZEg1q0"
      },
      "execution_count": null,
      "outputs": []
    },
    {
      "cell_type": "code",
      "source": [
        "employee = Employee(\"Ram\", 30)\n",
        "manager = Manager(\"Vishnu\", 50, 200)"
      ],
      "metadata": {
        "id": "VQqRxnkbjBdV"
      },
      "execution_count": null,
      "outputs": []
    },
    {
      "cell_type": "code",
      "source": [
        "print(\"Employee salary:\", employee.calculate_salary(40)) ##40 represents no of hours worked\n",
        "print(\"Manager salary:\", manager.calculate_salary(40))"
      ],
      "metadata": {
        "colab": {
          "base_uri": "https://localhost:8080/"
        },
        "id": "kfkGr37Zj5s9",
        "outputId": "87df3da3-27fe-402e-9a1e-fc8db9cc6ec2"
      },
      "execution_count": null,
      "outputs": [
        {
          "output_type": "stream",
          "name": "stdout",
          "text": [
            "Employee salary: 1200\n",
            "Manager salary: 2200\n"
          ]
        }
      ]
    },
    {
      "cell_type": "code",
      "source": [
        "#15. Create a class Product with attributes name, price, and quantity. Implement a method total_price() that calculates the total price of the product.\n",
        "#ans.\n",
        "class Product:\n",
        "  def __init__(self, name, price, quantity):\n",
        "    self.name = name\n",
        "    self.price = price\n",
        "    self.quantity = quantity\n",
        "\n",
        "  def total_price(self):\n",
        "    return self.price * self.quantity"
      ],
      "metadata": {
        "id": "ENwSG00xkvSz"
      },
      "execution_count": null,
      "outputs": []
    },
    {
      "cell_type": "code",
      "source": [
        "product = Product(\"Laptop\", 40000, 2)\n",
        "print(f\"Total price of {product.name}: Rs.{product.total_price()}\")"
      ],
      "metadata": {
        "colab": {
          "base_uri": "https://localhost:8080/"
        },
        "id": "Bi3x_7i8uCyv",
        "outputId": "a5fb93ef-ca9e-4224-d347-391ea2f5e3d6"
      },
      "execution_count": null,
      "outputs": [
        {
          "output_type": "stream",
          "name": "stdout",
          "text": [
            "Total price of Laptop: Rs.80000\n"
          ]
        }
      ]
    },
    {
      "cell_type": "code",
      "source": [
        "#16. Create a class Animal with an abstract method sound(). Create two derived classes Cow and Sheep that implement the sound() method.\n",
        "#ans.\n",
        "from abc import ABC, abstractmethod\n",
        "\n",
        "class Animal(ABC):\n",
        "  @abstractmethod\n",
        "  def sound(self):\n",
        "    pass\n",
        "\n",
        "class Cow(Animal):\n",
        "  def sound(self):\n",
        "    return \"Moo\"\n",
        "\n",
        "class Sheep(Animal):\n",
        "  def sound(self):\n",
        "    return \"Baa\""
      ],
      "metadata": {
        "id": "c9Q3yAoKulc_"
      },
      "execution_count": null,
      "outputs": []
    },
    {
      "cell_type": "code",
      "source": [
        "cow = Cow()\n",
        "sheep = Sheep()"
      ],
      "metadata": {
        "id": "iLwSfUjOv1z9"
      },
      "execution_count": null,
      "outputs": []
    },
    {
      "cell_type": "code",
      "source": [
        "print(\"Cow sound:\", cow.sound())\n",
        "print(\"Sheep sound:\", sheep.sound())"
      ],
      "metadata": {
        "colab": {
          "base_uri": "https://localhost:8080/"
        },
        "id": "Skj64mYMwGWK",
        "outputId": "89979def-f2d9-43db-99e2-da1bab986b7d"
      },
      "execution_count": null,
      "outputs": [
        {
          "output_type": "stream",
          "name": "stdout",
          "text": [
            "Cow sound: Moo\n",
            "Sheep sound: Baa\n"
          ]
        }
      ]
    },
    {
      "cell_type": "code",
      "source": [
        "#17. Create a class Book with attributes title, author, and year_published. Add a method get_book_info() that returns a formatted string with the book's details.\n",
        "#ans.\n",
        "class Book:\n",
        "  def __init__(self, title, author, year_published):\n",
        "    self.title = title\n",
        "    self.author = author\n",
        "    self.year_published = year_published\n",
        "\n",
        "  def get_book_info(self):\n",
        "    return f\"Title: {self.title}, Author: {self.author}, Year Published: {self.year_published}\""
      ],
      "metadata": {
        "id": "O0LqzzKPwX9w"
      },
      "execution_count": null,
      "outputs": []
    },
    {
      "cell_type": "code",
      "source": [
        "book = Book(\"Magic of Faith\", \"Joseph Murphy\", 1958)\n",
        "print(book.get_book_info())"
      ],
      "metadata": {
        "colab": {
          "base_uri": "https://localhost:8080/"
        },
        "id": "NVRNMOZwyXM7",
        "outputId": "bda72679-e5a1-482d-a974-06673fb02916"
      },
      "execution_count": null,
      "outputs": [
        {
          "output_type": "stream",
          "name": "stdout",
          "text": [
            "Title: Magic of Faith, Author: Joseph Murphy, Year Published: 1958\n"
          ]
        }
      ]
    },
    {
      "cell_type": "code",
      "source": [
        "#18. Create a class House with attributes address and price. Create a derived class Mansion that adds an attribute number_of_rooms.\n",
        "#ans.\n",
        "class House:\n",
        "  def __init__(self, address, price):\n",
        "    self.address = address\n",
        "    self.price = price\n",
        "\n",
        "class Mansion(House):\n",
        "  def __init__(self, address, price, number_of_rooms):\n",
        "    super().__init__(address, price)\n",
        "    self.number_of_rooms = number_of_rooms"
      ],
      "metadata": {
        "id": "JqWNXnO6zEEI"
      },
      "execution_count": null,
      "outputs": []
    },
    {
      "cell_type": "code",
      "source": [
        "mansion = Mansion(\"Parvati Niwas\", 15000000, 5)\n",
        "print(mansion.address, mansion.price, mansion.number_of_rooms)"
      ],
      "metadata": {
        "colab": {
          "base_uri": "https://localhost:8080/"
        },
        "id": "DMRdBqZy0RwI",
        "outputId": "ee35f632-e311-475c-a102-3624b210b659"
      },
      "execution_count": null,
      "outputs": [
        {
          "output_type": "stream",
          "name": "stdout",
          "text": [
            "Parvati Niwas 15000000 5\n"
          ]
        }
      ]
    },
    {
      "cell_type": "code",
      "source": [
        "print(f\"Mansion Address: {mansion.address}, Price: Rs.{mansion.price}, Rooms: {mansion.number_of_rooms}\")"
      ],
      "metadata": {
        "colab": {
          "base_uri": "https://localhost:8080/"
        },
        "id": "Cva2g4Vd0_88",
        "outputId": "d6df0d0e-edd9-43d4-a472-7830d68849d6"
      },
      "execution_count": null,
      "outputs": [
        {
          "output_type": "stream",
          "name": "stdout",
          "text": [
            "Mansion Address: Parvati Niwas, Price: Rs.15000000, Rooms: 5\n"
          ]
        }
      ]
    },
    {
      "cell_type": "code",
      "source": [],
      "metadata": {
        "id": "X4N6kqsw1f7m"
      },
      "execution_count": null,
      "outputs": []
    }
  ]
}